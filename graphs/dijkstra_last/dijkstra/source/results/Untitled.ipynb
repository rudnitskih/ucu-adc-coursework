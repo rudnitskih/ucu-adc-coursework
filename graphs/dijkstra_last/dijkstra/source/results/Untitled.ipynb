{
 "cells": [
  {
   "cell_type": "code",
   "execution_count": 25,
   "metadata": {
    "collapsed": true
   },
   "outputs": [],
   "source": [
    "import pandas as pd\n",
    "import numpy as np\n",
    "import matplotlib.pyplot as plt\n",
    "%matplotlib inline"
   ]
  },
  {
   "cell_type": "code",
   "execution_count": 5,
   "metadata": {
    "collapsed": true
   },
   "outputs": [],
   "source": [
    "straight = pd.read_csv('straightforward.txt', names=['time', 'compOP', 'overhOP', 'Theoretical estimation'])"
   ]
  },
  {
   "cell_type": "code",
   "execution_count": 8,
   "metadata": {
    "collapsed": false
   },
   "outputs": [],
   "source": [
    "straight['Total operations'] = straight.compOP + straight.overhOP\n",
    "\n"
   ]
  },
  {
   "cell_type": "code",
   "execution_count": 10,
   "metadata": {
    "collapsed": false
   },
   "outputs": [],
   "source": [
    "straight['Total operations'] = straight['Total operations'].apply(lambda x : int(x))"
   ]
  },
  {
   "cell_type": "code",
   "execution_count": 14,
   "metadata": {
    "collapsed": false
   },
   "outputs": [],
   "source": [
    "straight['compOP'] = straight['compOP'].apply(lambda x : int(x))\n",
    "straight['overhOP'] = straight['overhOP'].apply(lambda x : int(x))"
   ]
  },
  {
   "cell_type": "code",
   "execution_count": 16,
   "metadata": {
    "collapsed": false
   },
   "outputs": [],
   "source": [
    "straight.drop('compOp', inplace=True, axis=1)"
   ]
  },
  {
   "cell_type": "code",
   "execution_count": 19,
   "metadata": {
    "collapsed": false
   },
   "outputs": [],
   "source": [
    "straight['Number of Vertices'] = range(33,1000, 33)"
   ]
  },
  {
   "cell_type": "code",
   "execution_count": 56,
   "metadata": {
    "collapsed": false
   },
   "outputs": [
    {
     "name": "stderr",
     "output_type": "stream",
     "text": [
      "/usr/local/lib/python2.7/dist-packages/ipykernel/__main__.py:1: SettingWithCopyWarning: \n",
      "A value is trying to be set on a copy of a slice from a DataFrame.\n",
      "Try using .loc[row_indexer,col_indexer] = value instead\n",
      "\n",
      "See the caveats in the documentation: http://pandas.pydata.org/pandas-docs/stable/indexing.html#indexing-view-versus-copy\n",
      "  if __name__ == '__main__':\n"
     ]
    }
   ],
   "source": [
    "straight['Scale Factor'] = straight['Theoretical estimation'] / straight['Total operations']"
   ]
  },
  {
   "cell_type": "code",
   "execution_count": 22,
   "metadata": {
    "collapsed": false
   },
   "outputs": [
    {
     "data": {
      "text/plain": [
       "Index([u'time', u'compOP', u'overhOP', u'Theoretical estimation',\n",
       "       u'Total operations', u'Number of Vertices'],\n",
       "      dtype='object')"
      ]
     },
     "execution_count": 22,
     "metadata": {},
     "output_type": "execute_result"
    }
   ],
   "source": [
    "straight.columns"
   ]
  },
  {
   "cell_type": "code",
   "execution_count": 57,
   "metadata": {
    "collapsed": true
   },
   "outputs": [],
   "source": [
    "straight = straight[[u'Number of Vertices',u'time', u'compOP', u'overhOP', u'Total operations',  u'Theoretical estimation', 'Scale Factor']]\n"
   ]
  },
  {
   "cell_type": "code",
   "execution_count": 43,
   "metadata": {
    "collapsed": true
   },
   "outputs": [],
   "source": [
    "heap = pd.read_csv('Heap-Based.txt', names=['time', 'compOP', 'overhOP', 'Theoretical estimation'])"
   ]
  },
  {
   "cell_type": "code",
   "execution_count": 45,
   "metadata": {
    "collapsed": false
   },
   "outputs": [],
   "source": [
    "heap['compOP'] = heap['compOP'].apply(lambda x : int(x))\n",
    "heap['overhOP'] = heap['overhOP'].apply(lambda x : int(x))"
   ]
  },
  {
   "cell_type": "code",
   "execution_count": 47,
   "metadata": {
    "collapsed": true
   },
   "outputs": [],
   "source": [
    "heap['Total operations'] = heap.compOP + heap.overhOP"
   ]
  },
  {
   "cell_type": "code",
   "execution_count": 50,
   "metadata": {
    "collapsed": false
   },
   "outputs": [],
   "source": [
    "heap['Scale Factor'] = heap['Theoretical estimation'] / heap['Total operations']"
   ]
  },
  {
   "cell_type": "code",
   "execution_count": 52,
   "metadata": {
    "collapsed": true
   },
   "outputs": [],
   "source": [
    "heap['Number of Vertices'] = range(33,1000, 33)"
   ]
  },
  {
   "cell_type": "code",
   "execution_count": 54,
   "metadata": {
    "collapsed": false
   },
   "outputs": [],
   "source": [
    "heap = heap[[ u'Number of Vertices',u'time', u'compOP', u'overhOP', \n",
    "       u'Total operations', u'Theoretical estimation', u'Scale Factor']]"
   ]
  },
  {
   "cell_type": "code",
   "execution_count": 55,
   "metadata": {
    "collapsed": false
   },
   "outputs": [
    {
     "data": {
      "text/html": [
       "<div>\n",
       "<table border=\"1\" class=\"dataframe\">\n",
       "  <thead>\n",
       "    <tr style=\"text-align: right;\">\n",
       "      <th></th>\n",
       "      <th>Number of Vertices</th>\n",
       "      <th>time</th>\n",
       "      <th>compOP</th>\n",
       "      <th>overhOP</th>\n",
       "      <th>Total operations</th>\n",
       "      <th>Theoretical estimation</th>\n",
       "      <th>Scale Factor</th>\n",
       "    </tr>\n",
       "  </thead>\n",
       "  <tbody>\n",
       "    <tr>\n",
       "      <th>0</th>\n",
       "      <td>33</td>\n",
       "      <td>0.002380</td>\n",
       "      <td>95</td>\n",
       "      <td>241</td>\n",
       "      <td>336</td>\n",
       "      <td>212.907207</td>\n",
       "      <td>0.633652</td>\n",
       "    </tr>\n",
       "    <tr>\n",
       "      <th>1</th>\n",
       "      <td>66</td>\n",
       "      <td>0.016072</td>\n",
       "      <td>315</td>\n",
       "      <td>690</td>\n",
       "      <td>1005</td>\n",
       "      <td>532.337035</td>\n",
       "      <td>0.529689</td>\n",
       "    </tr>\n",
       "    <tr>\n",
       "      <th>2</th>\n",
       "      <td>99</td>\n",
       "      <td>0.044157</td>\n",
       "      <td>583</td>\n",
       "      <td>1208</td>\n",
       "      <td>1791</td>\n",
       "      <td>887.493930</td>\n",
       "      <td>0.495530</td>\n",
       "    </tr>\n",
       "    <tr>\n",
       "      <th>3</th>\n",
       "      <td>132</td>\n",
       "      <td>0.080235</td>\n",
       "      <td>775</td>\n",
       "      <td>1605</td>\n",
       "      <td>2380</td>\n",
       "      <td>1265.558957</td>\n",
       "      <td>0.531747</td>\n",
       "    </tr>\n",
       "    <tr>\n",
       "      <th>4</th>\n",
       "      <td>165</td>\n",
       "      <td>0.149310</td>\n",
       "      <td>1143</td>\n",
       "      <td>2325</td>\n",
       "      <td>3468</td>\n",
       "      <td>1684.962006</td>\n",
       "      <td>0.485860</td>\n",
       "    </tr>\n",
       "    <tr>\n",
       "      <th>5</th>\n",
       "      <td>198</td>\n",
       "      <td>0.216817</td>\n",
       "      <td>1405</td>\n",
       "      <td>2826</td>\n",
       "      <td>4231</td>\n",
       "      <td>2081.582269</td>\n",
       "      <td>0.491984</td>\n",
       "    </tr>\n",
       "    <tr>\n",
       "      <th>6</th>\n",
       "      <td>231</td>\n",
       "      <td>0.298069</td>\n",
       "      <td>1644</td>\n",
       "      <td>3301</td>\n",
       "      <td>4945</td>\n",
       "      <td>2501.516482</td>\n",
       "      <td>0.505868</td>\n",
       "    </tr>\n",
       "    <tr>\n",
       "      <th>7</th>\n",
       "      <td>264</td>\n",
       "      <td>0.401920</td>\n",
       "      <td>1877</td>\n",
       "      <td>3769</td>\n",
       "      <td>5646</td>\n",
       "      <td>2930.953021</td>\n",
       "      <td>0.519120</td>\n",
       "    </tr>\n",
       "    <tr>\n",
       "      <th>8</th>\n",
       "      <td>297</td>\n",
       "      <td>0.509563</td>\n",
       "      <td>2106</td>\n",
       "      <td>4235</td>\n",
       "      <td>6341</td>\n",
       "      <td>3368.692797</td>\n",
       "      <td>0.531256</td>\n",
       "    </tr>\n",
       "    <tr>\n",
       "      <th>9</th>\n",
       "      <td>330</td>\n",
       "      <td>0.642780</td>\n",
       "      <td>2378</td>\n",
       "      <td>4761</td>\n",
       "      <td>7139</td>\n",
       "      <td>3827.401152</td>\n",
       "      <td>0.536126</td>\n",
       "    </tr>\n",
       "    <tr>\n",
       "      <th>10</th>\n",
       "      <td>363</td>\n",
       "      <td>0.778796</td>\n",
       "      <td>2614</td>\n",
       "      <td>5234</td>\n",
       "      <td>7848</td>\n",
       "      <td>4279.336458</td>\n",
       "      <td>0.545277</td>\n",
       "    </tr>\n",
       "    <tr>\n",
       "      <th>11</th>\n",
       "      <td>396</td>\n",
       "      <td>0.940126</td>\n",
       "      <td>2869</td>\n",
       "      <td>5725</td>\n",
       "      <td>8594</td>\n",
       "      <td>4737.280055</td>\n",
       "      <td>0.551231</td>\n",
       "    </tr>\n",
       "    <tr>\n",
       "      <th>12</th>\n",
       "      <td>429</td>\n",
       "      <td>1.149434</td>\n",
       "      <td>3125</td>\n",
       "      <td>6226</td>\n",
       "      <td>9351</td>\n",
       "      <td>5200.730036</td>\n",
       "      <td>0.556168</td>\n",
       "    </tr>\n",
       "    <tr>\n",
       "      <th>13</th>\n",
       "      <td>462</td>\n",
       "      <td>1.399515</td>\n",
       "      <td>3379</td>\n",
       "      <td>6722</td>\n",
       "      <td>10101</td>\n",
       "      <td>5669.261959</td>\n",
       "      <td>0.561257</td>\n",
       "    </tr>\n",
       "    <tr>\n",
       "      <th>14</th>\n",
       "      <td>495</td>\n",
       "      <td>1.577617</td>\n",
       "      <td>3614</td>\n",
       "      <td>7189</td>\n",
       "      <td>10803</td>\n",
       "      <td>6113.702046</td>\n",
       "      <td>0.565926</td>\n",
       "    </tr>\n",
       "    <tr>\n",
       "      <th>15</th>\n",
       "      <td>528</td>\n",
       "      <td>1.954037</td>\n",
       "      <td>3836</td>\n",
       "      <td>7639</td>\n",
       "      <td>11475</td>\n",
       "      <td>6591.096876</td>\n",
       "      <td>0.574388</td>\n",
       "    </tr>\n",
       "    <tr>\n",
       "      <th>16</th>\n",
       "      <td>561</td>\n",
       "      <td>2.358554</td>\n",
       "      <td>4119</td>\n",
       "      <td>8191</td>\n",
       "      <td>12310</td>\n",
       "      <td>7101.946856</td>\n",
       "      <td>0.576925</td>\n",
       "    </tr>\n",
       "    <tr>\n",
       "      <th>17</th>\n",
       "      <td>594</td>\n",
       "      <td>2.599668</td>\n",
       "      <td>4397</td>\n",
       "      <td>8716</td>\n",
       "      <td>13113</td>\n",
       "      <td>7587.612631</td>\n",
       "      <td>0.578633</td>\n",
       "    </tr>\n",
       "    <tr>\n",
       "      <th>18</th>\n",
       "      <td>627</td>\n",
       "      <td>2.604014</td>\n",
       "      <td>4651</td>\n",
       "      <td>9209</td>\n",
       "      <td>13860</td>\n",
       "      <td>8076.946962</td>\n",
       "      <td>0.582752</td>\n",
       "    </tr>\n",
       "    <tr>\n",
       "      <th>19</th>\n",
       "      <td>660</td>\n",
       "      <td>2.756830</td>\n",
       "      <td>4884</td>\n",
       "      <td>9666</td>\n",
       "      <td>14550</td>\n",
       "      <td>8539.793690</td>\n",
       "      <td>0.586927</td>\n",
       "    </tr>\n",
       "    <tr>\n",
       "      <th>20</th>\n",
       "      <td>693</td>\n",
       "      <td>3.407053</td>\n",
       "      <td>5144</td>\n",
       "      <td>10159</td>\n",
       "      <td>15303</td>\n",
       "      <td>9020.634405</td>\n",
       "      <td>0.589468</td>\n",
       "    </tr>\n",
       "    <tr>\n",
       "      <th>21</th>\n",
       "      <td>726</td>\n",
       "      <td>3.872325</td>\n",
       "      <td>5426</td>\n",
       "      <td>10700</td>\n",
       "      <td>16126</td>\n",
       "      <td>9549.948900</td>\n",
       "      <td>0.592208</td>\n",
       "    </tr>\n",
       "    <tr>\n",
       "      <th>22</th>\n",
       "      <td>759</td>\n",
       "      <td>4.682698</td>\n",
       "      <td>5659</td>\n",
       "      <td>11167</td>\n",
       "      <td>16826</td>\n",
       "      <td>10036.855966</td>\n",
       "      <td>0.596509</td>\n",
       "    </tr>\n",
       "    <tr>\n",
       "      <th>23</th>\n",
       "      <td>792</td>\n",
       "      <td>4.602459</td>\n",
       "      <td>5939</td>\n",
       "      <td>11701</td>\n",
       "      <td>17640</td>\n",
       "      <td>10572.505245</td>\n",
       "      <td>0.599348</td>\n",
       "    </tr>\n",
       "    <tr>\n",
       "      <th>24</th>\n",
       "      <td>825</td>\n",
       "      <td>4.813377</td>\n",
       "      <td>6168</td>\n",
       "      <td>12167</td>\n",
       "      <td>18335</td>\n",
       "      <td>11080.382588</td>\n",
       "      <td>0.604330</td>\n",
       "    </tr>\n",
       "    <tr>\n",
       "      <th>25</th>\n",
       "      <td>858</td>\n",
       "      <td>5.425039</td>\n",
       "      <td>6428</td>\n",
       "      <td>12664</td>\n",
       "      <td>19092</td>\n",
       "      <td>11575.392593</td>\n",
       "      <td>0.606295</td>\n",
       "    </tr>\n",
       "    <tr>\n",
       "      <th>26</th>\n",
       "      <td>891</td>\n",
       "      <td>5.930193</td>\n",
       "      <td>6673</td>\n",
       "      <td>13154</td>\n",
       "      <td>19827</td>\n",
       "      <td>12103.957770</td>\n",
       "      <td>0.610479</td>\n",
       "    </tr>\n",
       "    <tr>\n",
       "      <th>27</th>\n",
       "      <td>924</td>\n",
       "      <td>7.485437</td>\n",
       "      <td>6904</td>\n",
       "      <td>13623</td>\n",
       "      <td>20527</td>\n",
       "      <td>12619.459908</td>\n",
       "      <td>0.614774</td>\n",
       "    </tr>\n",
       "    <tr>\n",
       "      <th>28</th>\n",
       "      <td>957</td>\n",
       "      <td>7.478330</td>\n",
       "      <td>7158</td>\n",
       "      <td>14119</td>\n",
       "      <td>21277</td>\n",
       "      <td>13137.319691</td>\n",
       "      <td>0.617442</td>\n",
       "    </tr>\n",
       "    <tr>\n",
       "      <th>29</th>\n",
       "      <td>990</td>\n",
       "      <td>7.668574</td>\n",
       "      <td>7425</td>\n",
       "      <td>14630</td>\n",
       "      <td>22055</td>\n",
       "      <td>13657.455787</td>\n",
       "      <td>0.619245</td>\n",
       "    </tr>\n",
       "  </tbody>\n",
       "</table>\n",
       "</div>"
      ],
      "text/plain": [
       "    Number of Vertices      time  compOP  overhOP  Total operations  \\\n",
       "0                   33  0.002380      95      241               336   \n",
       "1                   66  0.016072     315      690              1005   \n",
       "2                   99  0.044157     583     1208              1791   \n",
       "3                  132  0.080235     775     1605              2380   \n",
       "4                  165  0.149310    1143     2325              3468   \n",
       "5                  198  0.216817    1405     2826              4231   \n",
       "6                  231  0.298069    1644     3301              4945   \n",
       "7                  264  0.401920    1877     3769              5646   \n",
       "8                  297  0.509563    2106     4235              6341   \n",
       "9                  330  0.642780    2378     4761              7139   \n",
       "10                 363  0.778796    2614     5234              7848   \n",
       "11                 396  0.940126    2869     5725              8594   \n",
       "12                 429  1.149434    3125     6226              9351   \n",
       "13                 462  1.399515    3379     6722             10101   \n",
       "14                 495  1.577617    3614     7189             10803   \n",
       "15                 528  1.954037    3836     7639             11475   \n",
       "16                 561  2.358554    4119     8191             12310   \n",
       "17                 594  2.599668    4397     8716             13113   \n",
       "18                 627  2.604014    4651     9209             13860   \n",
       "19                 660  2.756830    4884     9666             14550   \n",
       "20                 693  3.407053    5144    10159             15303   \n",
       "21                 726  3.872325    5426    10700             16126   \n",
       "22                 759  4.682698    5659    11167             16826   \n",
       "23                 792  4.602459    5939    11701             17640   \n",
       "24                 825  4.813377    6168    12167             18335   \n",
       "25                 858  5.425039    6428    12664             19092   \n",
       "26                 891  5.930193    6673    13154             19827   \n",
       "27                 924  7.485437    6904    13623             20527   \n",
       "28                 957  7.478330    7158    14119             21277   \n",
       "29                 990  7.668574    7425    14630             22055   \n",
       "\n",
       "    Theoretical estimation  Scale Factor  \n",
       "0               212.907207      0.633652  \n",
       "1               532.337035      0.529689  \n",
       "2               887.493930      0.495530  \n",
       "3              1265.558957      0.531747  \n",
       "4              1684.962006      0.485860  \n",
       "5              2081.582269      0.491984  \n",
       "6              2501.516482      0.505868  \n",
       "7              2930.953021      0.519120  \n",
       "8              3368.692797      0.531256  \n",
       "9              3827.401152      0.536126  \n",
       "10             4279.336458      0.545277  \n",
       "11             4737.280055      0.551231  \n",
       "12             5200.730036      0.556168  \n",
       "13             5669.261959      0.561257  \n",
       "14             6113.702046      0.565926  \n",
       "15             6591.096876      0.574388  \n",
       "16             7101.946856      0.576925  \n",
       "17             7587.612631      0.578633  \n",
       "18             8076.946962      0.582752  \n",
       "19             8539.793690      0.586927  \n",
       "20             9020.634405      0.589468  \n",
       "21             9549.948900      0.592208  \n",
       "22            10036.855966      0.596509  \n",
       "23            10572.505245      0.599348  \n",
       "24            11080.382588      0.604330  \n",
       "25            11575.392593      0.606295  \n",
       "26            12103.957770      0.610479  \n",
       "27            12619.459908      0.614774  \n",
       "28            13137.319691      0.617442  \n",
       "29            13657.455787      0.619245  "
      ]
     },
     "execution_count": 55,
     "metadata": {},
     "output_type": "execute_result"
    }
   ],
   "source": [
    "heap"
   ]
  },
  {
   "cell_type": "code",
   "execution_count": null,
   "metadata": {
    "collapsed": true
   },
   "outputs": [],
   "source": []
  },
  {
   "cell_type": "code",
   "execution_count": null,
   "metadata": {
    "collapsed": true
   },
   "outputs": [],
   "source": []
  },
  {
   "cell_type": "code",
   "execution_count": null,
   "metadata": {
    "collapsed": true
   },
   "outputs": [],
   "source": []
  },
  {
   "cell_type": "code",
   "execution_count": 58,
   "metadata": {
    "collapsed": false
   },
   "outputs": [
    {
     "data": {
      "text/plain": [
       "<matplotlib.text.Text at 0x7f05031e5550>"
      ]
     },
     "execution_count": 58,
     "metadata": {},
     "output_type": "execute_result"
    },
    {
     "data": {
      "image/png": "[encoded data removed]",
      "text/plain": [
       "<matplotlib.figure.Figure at 0x7f0503285410>"
      ]
     },
     "metadata": {},
     "output_type": "display_data"
    }
   ],
   "source": [
    "plt.figure(figsize=(10,5))\n",
    "plt.style.use('ggplot')\n",
    "plt.plot(straight['Number of Vertices'], straight.time, 'r.-')\n",
    "plt.ylabel('Time (sec)')\n",
    "plt.xlabel('Number of vertices')\n",
    "plt.title('Dijkstra algorithm straightforward version')\n"
   ]
  },
  {
   "cell_type": "code",
   "execution_count": 61,
   "metadata": {
    "collapsed": false
   },
   "outputs": [
    {
     "data": {
      "text/plain": [
       "<matplotlib.text.Text at 0x7f05030f45d0>"
      ]
     },
     "execution_count": 61,
     "metadata": {},
     "output_type": "execute_result"
    },
    {
     "data": {
      "image/png": "[encoded data removed]",
      "text/plain": [
       "<matplotlib.figure.Figure at 0x7f0503089250>"
      ]
     },
     "metadata": {},
     "output_type": "display_data"
    }
   ],
   "source": [
    "plt.figure(figsize=(10,5))\n",
    "plt.style.use('ggplot')\n",
    "plt.plot(heap['Number of Vertices'], heap.time, 'y.-')\n",
    "plt.ylabel('Time (sec)')\n",
    "plt.xlabel('Number of vertices')\n",
    "plt.title('Dijkstra algorithm Heap-Based version')\n"
   ]
  },
  {
   "cell_type": "code",
   "execution_count": 65,
   "metadata": {
    "collapsed": false
   },
   "outputs": [
    {
     "data": {
      "text/plain": [
       "<matplotlib.text.Text at 0x7f0502d26390>"
      ]
     },
     "execution_count": 65,
     "metadata": {},
     "output_type": "execute_result"
    },
    {
     "data": {
      "image/png": "[encoded data removed]",
      "text/plain": [
       "<matplotlib.figure.Figure at 0x7f0502dbbe50>"
      ]
     },
     "metadata": {},
     "output_type": "display_data"
    }
   ],
   "source": [
    "plt.figure(figsize=(10,5))\n",
    "plt.style.use('ggplot')\n",
    "plt.plot(heap['Number of Vertices'], heap.time, 'y.-')\n",
    "plt.plot(straight['Number of Vertices'], straight.time, 'r.-')\n",
    "plt.plot((straight['Number of Vertices'] + heap['Number of Vertices'])/2,( straight.time + heap.time)/2, 'b.-')\n",
    "\n",
    "plt.legend(['Heap-Based','Straightforward', 'Mean'])\n",
    "plt.ylabel('Time (sec)')\n",
    "plt.xlabel('Number of vertices')\n",
    "plt.title('Dijkstra algorithm both version and their mean')\n"
   ]
  },
  {
   "cell_type": "code",
   "execution_count": 75,
   "metadata": {
    "collapsed": false
   },
   "outputs": [
    {
     "data": {
      "text/plain": [
       "<matplotlib.text.Text at 0x7f05002cec50>"
      ]
     },
     "execution_count": 75,
     "metadata": {},
     "output_type": "execute_result"
    },
    {
     "data": {
      "image/png": "[encoded data removed]",
      "text/plain": [
       "<matplotlib.figure.Figure at 0x7f0500318c50>"
      ]
     },
     "metadata": {},
     "output_type": "display_data"
    }
   ],
   "source": [
    "plt.figure(figsize=(10,5))\n",
    "# plt.plot(heap['Number of Vertices'], heap['Total operations'], 'y.-')\n",
    "plt.plot(straight['Number of Vertices'], straight['Total operations'], 'r.-')\n",
    "# plt.plot((straight['Number of Vertices'] + heap['Number of Vertices'])/2,( straight['Total operations'] + heap['Total operations'])/2, 'b.-')\n",
    "\n",
    "plt.ylabel('Number of operations')\n",
    "plt.xlabel('Number of vertices')\n",
    "plt.title('Straightforward')"
   ]
  },
  {
   "cell_type": "code",
   "execution_count": 66,
   "metadata": {
    "collapsed": false
   },
   "outputs": [
    {
     "data": {
      "text/html": [
       "<div>\n",
       "<table border=\"1\" class=\"dataframe\">\n",
       "  <thead>\n",
       "    <tr style=\"text-align: right;\">\n",
       "      <th></th>\n",
       "      <th>Number of Vertices</th>\n",
       "      <th>time</th>\n",
       "      <th>compOP</th>\n",
       "      <th>overhOP</th>\n",
       "      <th>Total operations</th>\n",
       "      <th>Theoretical estimation</th>\n",
       "      <th>Scale Factor</th>\n",
       "    </tr>\n",
       "  </thead>\n",
       "  <tbody>\n",
       "    <tr>\n",
       "      <th>0</th>\n",
       "      <td>33</td>\n",
       "      <td>0.002380</td>\n",
       "      <td>95</td>\n",
       "      <td>241</td>\n",
       "      <td>336</td>\n",
       "      <td>212.907207</td>\n",
       "      <td>0.633652</td>\n",
       "    </tr>\n",
       "    <tr>\n",
       "      <th>1</th>\n",
       "      <td>66</td>\n",
       "      <td>0.016072</td>\n",
       "      <td>315</td>\n",
       "      <td>690</td>\n",
       "      <td>1005</td>\n",
       "      <td>532.337035</td>\n",
       "      <td>0.529689</td>\n",
       "    </tr>\n",
       "    <tr>\n",
       "      <th>2</th>\n",
       "      <td>99</td>\n",
       "      <td>0.044157</td>\n",
       "      <td>583</td>\n",
       "      <td>1208</td>\n",
       "      <td>1791</td>\n",
       "      <td>887.493930</td>\n",
       "      <td>0.495530</td>\n",
       "    </tr>\n",
       "    <tr>\n",
       "      <th>3</th>\n",
       "      <td>132</td>\n",
       "      <td>0.080235</td>\n",
       "      <td>775</td>\n",
       "      <td>1605</td>\n",
       "      <td>2380</td>\n",
       "      <td>1265.558957</td>\n",
       "      <td>0.531747</td>\n",
       "    </tr>\n",
       "    <tr>\n",
       "      <th>4</th>\n",
       "      <td>165</td>\n",
       "      <td>0.149310</td>\n",
       "      <td>1143</td>\n",
       "      <td>2325</td>\n",
       "      <td>3468</td>\n",
       "      <td>1684.962006</td>\n",
       "      <td>0.485860</td>\n",
       "    </tr>\n",
       "    <tr>\n",
       "      <th>5</th>\n",
       "      <td>198</td>\n",
       "      <td>0.216817</td>\n",
       "      <td>1405</td>\n",
       "      <td>2826</td>\n",
       "      <td>4231</td>\n",
       "      <td>2081.582269</td>\n",
       "      <td>0.491984</td>\n",
       "    </tr>\n",
       "    <tr>\n",
       "      <th>6</th>\n",
       "      <td>231</td>\n",
       "      <td>0.298069</td>\n",
       "      <td>1644</td>\n",
       "      <td>3301</td>\n",
       "      <td>4945</td>\n",
       "      <td>2501.516482</td>\n",
       "      <td>0.505868</td>\n",
       "    </tr>\n",
       "    <tr>\n",
       "      <th>7</th>\n",
       "      <td>264</td>\n",
       "      <td>0.401920</td>\n",
       "      <td>1877</td>\n",
       "      <td>3769</td>\n",
       "      <td>5646</td>\n",
       "      <td>2930.953021</td>\n",
       "      <td>0.519120</td>\n",
       "    </tr>\n",
       "    <tr>\n",
       "      <th>8</th>\n",
       "      <td>297</td>\n",
       "      <td>0.509563</td>\n",
       "      <td>2106</td>\n",
       "      <td>4235</td>\n",
       "      <td>6341</td>\n",
       "      <td>3368.692797</td>\n",
       "      <td>0.531256</td>\n",
       "    </tr>\n",
       "    <tr>\n",
       "      <th>9</th>\n",
       "      <td>330</td>\n",
       "      <td>0.642780</td>\n",
       "      <td>2378</td>\n",
       "      <td>4761</td>\n",
       "      <td>7139</td>\n",
       "      <td>3827.401152</td>\n",
       "      <td>0.536126</td>\n",
       "    </tr>\n",
       "    <tr>\n",
       "      <th>10</th>\n",
       "      <td>363</td>\n",
       "      <td>0.778796</td>\n",
       "      <td>2614</td>\n",
       "      <td>5234</td>\n",
       "      <td>7848</td>\n",
       "      <td>4279.336458</td>\n",
       "      <td>0.545277</td>\n",
       "    </tr>\n",
       "    <tr>\n",
       "      <th>11</th>\n",
       "      <td>396</td>\n",
       "      <td>0.940126</td>\n",
       "      <td>2869</td>\n",
       "      <td>5725</td>\n",
       "      <td>8594</td>\n",
       "      <td>4737.280055</td>\n",
       "      <td>0.551231</td>\n",
       "    </tr>\n",
       "    <tr>\n",
       "      <th>12</th>\n",
       "      <td>429</td>\n",
       "      <td>1.149434</td>\n",
       "      <td>3125</td>\n",
       "      <td>6226</td>\n",
       "      <td>9351</td>\n",
       "      <td>5200.730036</td>\n",
       "      <td>0.556168</td>\n",
       "    </tr>\n",
       "    <tr>\n",
       "      <th>13</th>\n",
       "      <td>462</td>\n",
       "      <td>1.399515</td>\n",
       "      <td>3379</td>\n",
       "      <td>6722</td>\n",
       "      <td>10101</td>\n",
       "      <td>5669.261959</td>\n",
       "      <td>0.561257</td>\n",
       "    </tr>\n",
       "    <tr>\n",
       "      <th>14</th>\n",
       "      <td>495</td>\n",
       "      <td>1.577617</td>\n",
       "      <td>3614</td>\n",
       "      <td>7189</td>\n",
       "      <td>10803</td>\n",
       "      <td>6113.702046</td>\n",
       "      <td>0.565926</td>\n",
       "    </tr>\n",
       "    <tr>\n",
       "      <th>15</th>\n",
       "      <td>528</td>\n",
       "      <td>1.954037</td>\n",
       "      <td>3836</td>\n",
       "      <td>7639</td>\n",
       "      <td>11475</td>\n",
       "      <td>6591.096876</td>\n",
       "      <td>0.574388</td>\n",
       "    </tr>\n",
       "    <tr>\n",
       "      <th>16</th>\n",
       "      <td>561</td>\n",
       "      <td>2.358554</td>\n",
       "      <td>4119</td>\n",
       "      <td>8191</td>\n",
       "      <td>12310</td>\n",
       "      <td>7101.946856</td>\n",
       "      <td>0.576925</td>\n",
       "    </tr>\n",
       "    <tr>\n",
       "      <th>17</th>\n",
       "      <td>594</td>\n",
       "      <td>2.599668</td>\n",
       "      <td>4397</td>\n",
       "      <td>8716</td>\n",
       "      <td>13113</td>\n",
       "      <td>7587.612631</td>\n",
       "      <td>0.578633</td>\n",
       "    </tr>\n",
       "    <tr>\n",
       "      <th>18</th>\n",
       "      <td>627</td>\n",
       "      <td>2.604014</td>\n",
       "      <td>4651</td>\n",
       "      <td>9209</td>\n",
       "      <td>13860</td>\n",
       "      <td>8076.946962</td>\n",
       "      <td>0.582752</td>\n",
       "    </tr>\n",
       "    <tr>\n",
       "      <th>19</th>\n",
       "      <td>660</td>\n",
       "      <td>2.756830</td>\n",
       "      <td>4884</td>\n",
       "      <td>9666</td>\n",
       "      <td>14550</td>\n",
       "      <td>8539.793690</td>\n",
       "      <td>0.586927</td>\n",
       "    </tr>\n",
       "    <tr>\n",
       "      <th>20</th>\n",
       "      <td>693</td>\n",
       "      <td>3.407053</td>\n",
       "      <td>5144</td>\n",
       "      <td>10159</td>\n",
       "      <td>15303</td>\n",
       "      <td>9020.634405</td>\n",
       "      <td>0.589468</td>\n",
       "    </tr>\n",
       "    <tr>\n",
       "      <th>21</th>\n",
       "      <td>726</td>\n",
       "      <td>3.872325</td>\n",
       "      <td>5426</td>\n",
       "      <td>10700</td>\n",
       "      <td>16126</td>\n",
       "      <td>9549.948900</td>\n",
       "      <td>0.592208</td>\n",
       "    </tr>\n",
       "    <tr>\n",
       "      <th>22</th>\n",
       "      <td>759</td>\n",
       "      <td>4.682698</td>\n",
       "      <td>5659</td>\n",
       "      <td>11167</td>\n",
       "      <td>16826</td>\n",
       "      <td>10036.855966</td>\n",
       "      <td>0.596509</td>\n",
       "    </tr>\n",
       "    <tr>\n",
       "      <th>23</th>\n",
       "      <td>792</td>\n",
       "      <td>4.602459</td>\n",
       "      <td>5939</td>\n",
       "      <td>11701</td>\n",
       "      <td>17640</td>\n",
       "      <td>10572.505245</td>\n",
       "      <td>0.599348</td>\n",
       "    </tr>\n",
       "    <tr>\n",
       "      <th>24</th>\n",
       "      <td>825</td>\n",
       "      <td>4.813377</td>\n",
       "      <td>6168</td>\n",
       "      <td>12167</td>\n",
       "      <td>18335</td>\n",
       "      <td>11080.382588</td>\n",
       "      <td>0.604330</td>\n",
       "    </tr>\n",
       "    <tr>\n",
       "      <th>25</th>\n",
       "      <td>858</td>\n",
       "      <td>5.425039</td>\n",
       "      <td>6428</td>\n",
       "      <td>12664</td>\n",
       "      <td>19092</td>\n",
       "      <td>11575.392593</td>\n",
       "      <td>0.606295</td>\n",
       "    </tr>\n",
       "    <tr>\n",
       "      <th>26</th>\n",
       "      <td>891</td>\n",
       "      <td>5.930193</td>\n",
       "      <td>6673</td>\n",
       "      <td>13154</td>\n",
       "      <td>19827</td>\n",
       "      <td>12103.957770</td>\n",
       "      <td>0.610479</td>\n",
       "    </tr>\n",
       "    <tr>\n",
       "      <th>27</th>\n",
       "      <td>924</td>\n",
       "      <td>7.485437</td>\n",
       "      <td>6904</td>\n",
       "      <td>13623</td>\n",
       "      <td>20527</td>\n",
       "      <td>12619.459908</td>\n",
       "      <td>0.614774</td>\n",
       "    </tr>\n",
       "    <tr>\n",
       "      <th>28</th>\n",
       "      <td>957</td>\n",
       "      <td>7.478330</td>\n",
       "      <td>7158</td>\n",
       "      <td>14119</td>\n",
       "      <td>21277</td>\n",
       "      <td>13137.319691</td>\n",
       "      <td>0.617442</td>\n",
       "    </tr>\n",
       "    <tr>\n",
       "      <th>29</th>\n",
       "      <td>990</td>\n",
       "      <td>7.668574</td>\n",
       "      <td>7425</td>\n",
       "      <td>14630</td>\n",
       "      <td>22055</td>\n",
       "      <td>13657.455787</td>\n",
       "      <td>0.619245</td>\n",
       "    </tr>\n",
       "  </tbody>\n",
       "</table>\n",
       "</div>"
      ],
      "text/plain": [
       "    Number of Vertices      time  compOP  overhOP  Total operations  \\\n",
       "0                   33  0.002380      95      241               336   \n",
       "1                   66  0.016072     315      690              1005   \n",
       "2                   99  0.044157     583     1208              1791   \n",
       "3                  132  0.080235     775     1605              2380   \n",
       "4                  165  0.149310    1143     2325              3468   \n",
       "5                  198  0.216817    1405     2826              4231   \n",
       "6                  231  0.298069    1644     3301              4945   \n",
       "7                  264  0.401920    1877     3769              5646   \n",
       "8                  297  0.509563    2106     4235              6341   \n",
       "9                  330  0.642780    2378     4761              7139   \n",
       "10                 363  0.778796    2614     5234              7848   \n",
       "11                 396  0.940126    2869     5725              8594   \n",
       "12                 429  1.149434    3125     6226              9351   \n",
       "13                 462  1.399515    3379     6722             10101   \n",
       "14                 495  1.577617    3614     7189             10803   \n",
       "15                 528  1.954037    3836     7639             11475   \n",
       "16                 561  2.358554    4119     8191             12310   \n",
       "17                 594  2.599668    4397     8716             13113   \n",
       "18                 627  2.604014    4651     9209             13860   \n",
       "19                 660  2.756830    4884     9666             14550   \n",
       "20                 693  3.407053    5144    10159             15303   \n",
       "21                 726  3.872325    5426    10700             16126   \n",
       "22                 759  4.682698    5659    11167             16826   \n",
       "23                 792  4.602459    5939    11701             17640   \n",
       "24                 825  4.813377    6168    12167             18335   \n",
       "25                 858  5.425039    6428    12664             19092   \n",
       "26                 891  5.930193    6673    13154             19827   \n",
       "27                 924  7.485437    6904    13623             20527   \n",
       "28                 957  7.478330    7158    14119             21277   \n",
       "29                 990  7.668574    7425    14630             22055   \n",
       "\n",
       "    Theoretical estimation  Scale Factor  \n",
       "0               212.907207      0.633652  \n",
       "1               532.337035      0.529689  \n",
       "2               887.493930      0.495530  \n",
       "3              1265.558957      0.531747  \n",
       "4              1684.962006      0.485860  \n",
       "5              2081.582269      0.491984  \n",
       "6              2501.516482      0.505868  \n",
       "7              2930.953021      0.519120  \n",
       "8              3368.692797      0.531256  \n",
       "9              3827.401152      0.536126  \n",
       "10             4279.336458      0.545277  \n",
       "11             4737.280055      0.551231  \n",
       "12             5200.730036      0.556168  \n",
       "13             5669.261959      0.561257  \n",
       "14             6113.702046      0.565926  \n",
       "15             6591.096876      0.574388  \n",
       "16             7101.946856      0.576925  \n",
       "17             7587.612631      0.578633  \n",
       "18             8076.946962      0.582752  \n",
       "19             8539.793690      0.586927  \n",
       "20             9020.634405      0.589468  \n",
       "21             9549.948900      0.592208  \n",
       "22            10036.855966      0.596509  \n",
       "23            10572.505245      0.599348  \n",
       "24            11080.382588      0.604330  \n",
       "25            11575.392593      0.606295  \n",
       "26            12103.957770      0.610479  \n",
       "27            12619.459908      0.614774  \n",
       "28            13137.319691      0.617442  \n",
       "29            13657.455787      0.619245  "
      ]
     },
     "execution_count": 66,
     "metadata": {},
     "output_type": "execute_result"
    }
   ],
   "source": [
    "heap"
   ]
  },
  {
   "cell_type": "code",
   "execution_count": null,
   "metadata": {
    "collapsed": true
   },
   "outputs": [],
   "source": []
  }
 ],
 "metadata": {
  "kernelspec": {
   "display_name": "Python 2",
   "language": "python",
   "name": "python2"
  },
  "language_info": {
   "codemirror_mode": {
    "name": "ipython",
    "version": 2
   },
   "file_extension": ".py",
   "mimetype": "text/x-python",
   "name": "python",
   "nbconvert_exporter": "python",
   "pygments_lexer": "ipython2",
   "version": "2.7.12"
  }
 },
 "nbformat": 4,
 "nbformat_minor": 1
}
